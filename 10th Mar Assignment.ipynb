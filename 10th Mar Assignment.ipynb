{
 "cells": [
  {
   "cell_type": "markdown",
   "id": "5a2f095b-5436-471f-8f4b-66896561f434",
   "metadata": {},
   "source": [
    "# 10th March Assignment"
   ]
  },
  {
   "cell_type": "code",
   "execution_count": null,
   "id": "29a4eeb7-0e1e-41cd-b4df-bb8e145eeb8d",
   "metadata": {},
   "outputs": [],
   "source": []
  },
  {
   "cell_type": "markdown",
   "id": "80435882-acc8-485b-8308-bb3f4c1c3f6b",
   "metadata": {},
   "source": [
    "Q1: What is Estimation Statistics? Explain point estimate and interval estimate."
   ]
  },
  {
   "cell_type": "markdown",
   "id": "83f48f0e-4e8b-4301-9a3d-15bff918a550",
   "metadata": {},
   "source": [
    "* Estimation Statistics\n",
    "\n",
    "-> In estimation statistics we have to estimate the population data using sample data.\n",
    "\n",
    "* Point Estimate\n",
    "\n",
    "-> It is an single numeric value used to estimate population data.\n",
    "\n",
    "* Interval Estimate\n",
    "\n",
    "-> In point estimate sometimes there is huge difference between point estimator and population data,to solve that problem we can use interval estimate.\n",
    "\n",
    "-> Interval estimator estimate the population data between certain bound.\n",
    "\n",
    "-> That bound is called as confidence interval."
   ]
  },
  {
   "cell_type": "code",
   "execution_count": null,
   "id": "7044e46f-b1b8-413d-b168-b1238158bd44",
   "metadata": {},
   "outputs": [],
   "source": []
  },
  {
   "cell_type": "markdown",
   "id": "07e2c5ac-e082-4d00-ac20-9d7f141ffc86",
   "metadata": {},
   "source": [
    "Q2. Write a Python function to estimate the population mean using a sample mean and standard\n",
    "deviation."
   ]
  },
  {
   "cell_type": "code",
   "execution_count": 3,
   "id": "c9b05e94-c68d-4190-8cfc-d73e0fa9df57",
   "metadata": {},
   "outputs": [],
   "source": [
    "import math\n",
    "\n",
    "def test(sample_mean,sample_size,sample_standard_deviation):\n",
    "    \n",
    "    error = sample_standard_deviation / math.sqrt(sample_size)\n",
    "    \n",
    "    population_mean = sample_mean * math.sqrt(sample_size) + error\n",
    "    \n",
    "    return population_mean"
   ]
  },
  {
   "cell_type": "code",
   "execution_count": 4,
   "id": "cea1293d-0615-439b-b2b0-90f35f8905e2",
   "metadata": {},
   "outputs": [
    {
     "data": {
      "text/plain": [
       "501.0"
      ]
     },
     "execution_count": 4,
     "metadata": {},
     "output_type": "execute_result"
    }
   ],
   "source": [
    "test(50,100,10)"
   ]
  },
  {
   "cell_type": "code",
   "execution_count": null,
   "id": "f3ad84ce-fcb7-4c74-804b-268c83405350",
   "metadata": {},
   "outputs": [],
   "source": []
  },
  {
   "cell_type": "markdown",
   "id": "d1fb1a1d-8af4-425b-a9a9-e5ca15298882",
   "metadata": {},
   "source": [
    "Q3: What is Hypothesis testing? Why is it used? State the importance of Hypothesis testing."
   ]
  },
  {
   "cell_type": "markdown",
   "id": "a1106944-47ba-430f-a0c6-0c5927a8caf1",
   "metadata": {},
   "source": [
    "-> Hypothesis testing is statistical method used for find conclusions.It involves two competing hypothesis,null hypothesis(H0) and alternate hypothesis(H1).\n",
    "\n",
    "* Reasons Why Hypothesis Testing is Used\n",
    "\n",
    "1. Controll Errors\n",
    "\n",
    "2. Making Decision\n",
    "\n",
    "3. Find Conclusion\n",
    "\n",
    "4. Testing Scientific Theory\n",
    "\n",
    "* Importance of Hypothesis Testing \n",
    "\n",
    "-> Hypothesis testing provides farmawork to make decision and coclusions.\n",
    "\n",
    "-> It decreas the biases and support evidence based approach problem solving.\n",
    "\n",
    "-> By testing hypotheses, researchers can gain insights into the relationships between variables, verify the effectiveness of interventions, and contribute to the advancement of knowledge in their respective fields."
   ]
  },
  {
   "cell_type": "code",
   "execution_count": null,
   "id": "c5204ec2-d693-41b3-be3d-9d6c37e42859",
   "metadata": {},
   "outputs": [],
   "source": []
  },
  {
   "cell_type": "markdown",
   "id": "7f9182aa-f55e-482f-8ebf-63a2cb3e9e8f",
   "metadata": {},
   "source": [
    "Q4. Create a hypothesis that states whether the average weight of male college students is greater than\n",
    "the average weight of female college students."
   ]
  },
  {
   "cell_type": "markdown",
   "id": "afcce715-a61d-4a01-8727-5ccd9e93959e",
   "metadata": {},
   "source": [
    "* To solve this question we have to use two-sample t-test.\n",
    "\n",
    "For male students:\n",
    "\n",
    "Sample size (n1) = 100\n",
    "\n",
    "Sample mean (x̄1) = 180 pounds\n",
    "\n",
    "Sample standard deviation (s1) = 10 pounds\n",
    "\n",
    "For female students:\n",
    "\n",
    "Sample size(n2) = 100\n",
    "\n",
    "Sample mean (x̄2) = 160 pounds\n",
    "\n",
    "Sample standard deviation (s2) = 8 pounds\n",
    "\n",
    "\n",
    "-----------------------------------------------------------------------------------------------------------------------------------------------\n",
    "\n",
    "Null Hypothesis (H0) : The average weight of male students is less than female students.\n",
    "\n",
    "Alternate Hypothesis (H1) : The average weight of male students is greater than female students.\n",
    "\n",
    "Significance Value : 0.05\n",
    "\n",
    "Two-sample T-test :\n",
    "\n",
    "t-test = x̄1 - x̄2 / math.sqrt((s1 ** 2 / n1) + (s2 ** 2/ n2))"
   ]
  },
  {
   "cell_type": "code",
   "execution_count": 9,
   "id": "646d071f-34c2-4a74-b24f-84c80d786ea9",
   "metadata": {},
   "outputs": [],
   "source": [
    "import math\n",
    "\n",
    "t = 180 - 160 / math.sqrt((10**2/100) + (8**2/100))\n",
    "\n",
    "t = 15.617376188860606"
   ]
  },
  {
   "cell_type": "markdown",
   "id": "913547ed-a1ee-441c-b447-248ad67cc518",
   "metadata": {},
   "source": [
    "Degree of Freedom = 99\n",
    "\n",
    "Critical Value = 0.05\n",
    "\n",
    "-> From t-distributionn table ,we found critical value according to above value is approximatly 1.660.\n",
    "\n",
    "-> Test statistics is greater than critical value,because of that we reject the null hypothesis."
   ]
  },
  {
   "cell_type": "code",
   "execution_count": null,
   "id": "979f738a-e783-41e6-8d37-faca14a3d50c",
   "metadata": {},
   "outputs": [],
   "source": []
  },
  {
   "cell_type": "markdown",
   "id": "b6184b17-6614-405a-b849-603fcf2aa21d",
   "metadata": {},
   "source": [
    "Q5. Write a Python script to conduct a hypothesis test on the difference between two population means,\n",
    "given a sample from each population."
   ]
  },
  {
   "cell_type": "code",
   "execution_count": 13,
   "id": "1c7ff129-922f-4ab4-a0b3-cf40bf30bb3e",
   "metadata": {},
   "outputs": [
    {
     "name": "stdout",
     "output_type": "stream",
     "text": [
      "We fail to reject the null hypothesis\n",
      "t_stat: 0.6985354731356999\n",
      "p_value 0.5046383265776544\n"
     ]
    }
   ],
   "source": [
    "import scipy.stats as stat\n",
    "\n",
    "s1 = [15, 19, 23, 25, 27]  \n",
    "s2 = [16, 18, 20, 22, 24]  \n",
    "\n",
    "significance_value = 0.05\n",
    "\n",
    "t_stat,p_value = stat.ttest_ind(s1,s2)\n",
    "\n",
    "if p_value < significance_value :\n",
    "    print('We reject the null hypothesis')\n",
    "else :\n",
    "    print('We fail to reject the null hypothesis')\n",
    "    \n",
    "print('t_stat:',t_stat)\n",
    "print('p_value',p_value)"
   ]
  },
  {
   "cell_type": "code",
   "execution_count": null,
   "id": "73e09fd0-a54a-46ac-9ef6-5e0a78696ea4",
   "metadata": {},
   "outputs": [],
   "source": []
  },
  {
   "cell_type": "markdown",
   "id": "addb3103-3c15-4f0e-91f0-e9e263765b17",
   "metadata": {},
   "source": [
    "Q6: What is a null and alternative hypothesis? Give some examples.\n"
   ]
  },
  {
   "cell_type": "markdown",
   "id": "4639e40f-ab3d-4c93-b099-77b5d9305fd6",
   "metadata": {},
   "source": [
    "\n",
    "In Hypothesis testing, the null hypothesis (H0) and alternative hypothesis (Ha or H1) are two competing statements used to make inferences about a population based on sample data.\n",
    "\n",
    "Example :\n",
    "\n",
    "Null Hypothesis (H0): The new drug has no effect on reducing cholesterol levels.\n",
    "\n",
    "Alternative Hypothesis (Ha): The new drug reduces cholesterol levels significantly."
   ]
  },
  {
   "cell_type": "code",
   "execution_count": null,
   "id": "b0979eba-c170-4671-a547-45e6ee571de9",
   "metadata": {},
   "outputs": [],
   "source": []
  },
  {
   "cell_type": "markdown",
   "id": "2d90154d-a9ae-4e97-9dac-c47fbb648407",
   "metadata": {},
   "source": [
    "Q7: Write down the steps involved in hypothesis testing."
   ]
  },
  {
   "cell_type": "markdown",
   "id": "8801bbc9-6c3a-447b-8861-399c360015a7",
   "metadata": {},
   "source": [
    "step 1 : Null Hypothesis (H0)\n",
    "    \n",
    "step 2 : Alternate Hypothesis (H1)\n",
    "    \n",
    "step 3 : Significance Level\n",
    "    \n",
    "step 4 : Z-test or T-test or other test statistics\n",
    "    \n",
    "step 5 : Decision\n",
    "\n",
    "step 6 : Declare the result"
   ]
  },
  {
   "cell_type": "code",
   "execution_count": null,
   "id": "d07d00c6-2600-44c4-9730-1bf54e7db5ed",
   "metadata": {},
   "outputs": [],
   "source": []
  },
  {
   "cell_type": "markdown",
   "id": "36191467-0735-4dbb-b4b4-1167184e4d57",
   "metadata": {},
   "source": [
    "Q8. Define p-value and explain its significance in hypothesis testing."
   ]
  },
  {
   "cell_type": "markdown",
   "id": "0a3e6f1b-7f65-429e-8a70-6d0602479be9",
   "metadata": {},
   "source": [
    "-> P-value stands for probability value.\n",
    "\n",
    "-> It is an evidence against null hypothesis.\n",
    "\n",
    "-> The more p-vlue is less than significance the more strong evidence against null hypothesis.\n",
    "\n",
    "-> The significance of p-vlue is in dicision making.\n",
    "\n",
    "-> User can easily take decision with the help of p-value."
   ]
  },
  {
   "cell_type": "code",
   "execution_count": null,
   "id": "7e9e018b-e393-4dd0-a931-1c6eee8b688d",
   "metadata": {},
   "outputs": [],
   "source": []
  },
  {
   "cell_type": "markdown",
   "id": "74989a78-a05f-43a6-8296-0c211d13b7d8",
   "metadata": {},
   "source": [
    "Q9. Generate a Student's t-distribution plot using Python's matplotlib library, with the degrees of freedom\n",
    "parameter set to 10.\n"
   ]
  },
  {
   "cell_type": "code",
   "execution_count": 65,
   "id": "b17100bb-3da7-41fb-ae93-57223df6444f",
   "metadata": {},
   "outputs": [
    {
     "data": {
      "image/png": "[encoded data removed]",
      "text/plain": [
       "<Figure size 640x480 with 1 Axes>"
      ]
     },
     "metadata": {},
     "output_type": "display_data"
    }
   ],
   "source": [
    "import numpy as np\n",
    "import matplotlib.pyplot as plt\n",
    "from scipy.stats import t\n",
    "\n",
    "df = 10\n",
    "\n",
    "x = np.linspace(-4, 4, 1000)\n",
    "\n",
    "pdf = t.pdf(x, df)\n",
    "\n",
    "plt.plot(x, pdf, label='t-distribution (df = 10)')\n",
    "plt.title(\"Student's t-distribution\")\n",
    "plt.xlabel('x')\n",
    "plt.ylabel('Probability Density')\n",
    "plt.grid(True)\n",
    "plt.legend()\n",
    "plt.show()"
   ]
  },
  {
   "cell_type": "code",
   "execution_count": null,
   "id": "5095eaff-7005-4be3-85af-3e31835f8b77",
   "metadata": {},
   "outputs": [],
   "source": []
  },
  {
   "cell_type": "markdown",
   "id": "8deffc6f-48e7-49b2-ab55-10a751a8b7f4",
   "metadata": {},
   "source": [
    "Q10. Write a Python program to calculate the two-sample t-test for independent samples, given two\n",
    "random samples of equal size and a null hypothesis that the population means are equal."
   ]
  },
  {
   "cell_type": "markdown",
   "id": "d805a367-f7bc-4722-bd08-513328e4ff43",
   "metadata": {},
   "source": [
    "sample1 = [23,41,5,65,25,89,67]\n",
    "\n",
    "sample2 = [56,23,65,86,87,21,1]\n",
    "\n",
    "n = 7\n",
    "\n",
    "Confidence Interval = -2.179 to +2.179"
   ]
  },
  {
   "cell_type": "markdown",
   "id": "a5229166-e63c-4e21-b800-41e50640b3db",
   "metadata": {},
   "source": [
    "Null Hypothesis(H0)      ->  μ1 = μ2\n",
    "\n",
    "Alternate Hypothesis(H1) ->  μ1 =! μ2\n",
    "\n",
    "Significance value       ->  0.05  \n",
    "\n",
    "T-test                   -> X̄1 - X̄2 / math.sqrt(S1 ** 2/n1 + S2 ** 2/n2) \n",
    "   \n",
    "      -> -0.20116990787508265\n",
    "      \n",
    "Decision -> Fail to reject the null hypothesis."
   ]
  },
  {
   "cell_type": "code",
   "execution_count": 28,
   "id": "ba01cdc4-355d-4077-b82b-76c2b2cd55cb",
   "metadata": {},
   "outputs": [
    {
     "name": "stdout",
     "output_type": "stream",
     "text": [
      "t_test  :  -0.20116990787508265\n",
      "p_value :  0.8439352824565188\n"
     ]
    }
   ],
   "source": [
    "import scipy.stats as stat\n",
    "\n",
    "sample1 = [23,41,5,65,25,89,67]\n",
    "\n",
    "sample2 = [56,23,65,86,87,21,1]\n",
    "\n",
    "t_test,p_value = stat.ttest_ind(sample1 , sample2)\n",
    "\n",
    "print('t_test  : ',t_test)\n",
    "\n",
    "print('p_value : ',p_value)"
   ]
  },
  {
   "cell_type": "code",
   "execution_count": null,
   "id": "c66c1fe8-7626-4fe3-a76b-083a865cbc1d",
   "metadata": {},
   "outputs": [],
   "source": []
  },
  {
   "cell_type": "markdown",
   "id": "996f1646-e986-4892-b90e-d71e28b280ca",
   "metadata": {},
   "source": [
    "Q11: What is Student’s t distribution? When to use the t-Distribution."
   ]
  },
  {
   "cell_type": "markdown",
   "id": "8f10a1c0-1467-4523-83ef-e537962890cd",
   "metadata": {},
   "source": [
    "-> The Student's t-distribution, also known as the t-distribution, is a probability distribution that is used in statistical inference when the sample size is small and the population standard deviation is unknown. It is a family of distributions that depends on the degrees of freedom parameter.\n",
    "\n",
    "-> The t-distribution is similar in shape to the standard normal distribution (Z-distribution), but with heavier tails. As the degrees of freedom increase, the t-distribution approaches the shape of the standard normal distribution. The degrees of freedom determine the spread and shape of the t-distribution.\n",
    "\n",
    "* Situation in which we can use t-distribution\n",
    "\n",
    "-> When the size of sample is small.\n",
    "\n",
    "-> The main reason, when we doesn't know population standard deviation."
   ]
  },
  {
   "cell_type": "code",
   "execution_count": null,
   "id": "18de09c4-a762-499d-b919-6403b1b2bf31",
   "metadata": {},
   "outputs": [],
   "source": []
  },
  {
   "cell_type": "markdown",
   "id": "7ecaabad-3fbc-47ae-a432-3d4f5def7cf5",
   "metadata": {},
   "source": [
    "Q12: What is t-statistic? State the formula for t-statistic."
   ]
  },
  {
   "cell_type": "markdown",
   "id": "92c13256-4a6b-44a4-86f3-45a87605a744",
   "metadata": {},
   "source": [
    "* The t-statistic is a measure used in hypothesis testing to assess the strength of evidence against the null hypothesis.\n",
    "\n",
    "t-test = Xi - μ / ( s/math.sqrt(n))"
   ]
  },
  {
   "cell_type": "code",
   "execution_count": null,
   "id": "2bcd0bf0-72b5-45f8-b848-eae500dab9e2",
   "metadata": {},
   "outputs": [],
   "source": []
  },
  {
   "cell_type": "markdown",
   "id": "625c69aa-835a-48d8-bff8-0044f27cda2b",
   "metadata": {},
   "source": [
    "Q13. A coffee shop owner wants to estimate the average daily revenue for their shop. They take a random\n",
    "sample of 50 days and find the sample mean revenue to be $500 with a standard deviation of $50.\n",
    "Estimate the population mean revenue with a 95% confidence interval."
   ]
  },
  {
   "cell_type": "code",
   "execution_count": 34,
   "id": "882ae5d6-f88a-48fa-b984-76f1d03817c9",
   "metadata": {},
   "outputs": [
    {
     "name": "stdout",
     "output_type": "stream",
     "text": [
      "486.1407070887437\n",
      "513.8592929112564\n"
     ]
    }
   ],
   "source": [
    "n=50\n",
    "sample_mean=500\n",
    "std=50\n",
    "\n",
    "#Mgin_of_error = x ± Z(significance_value/2) * std/math.sqrt(n)\n",
    "\n",
    "lower_bound = 500 - 1.96 * 50 / math.sqrt(50)\n",
    "\n",
    "upper_bound = 500 +1.96 * 50 / math.sqrt(50)\n",
    "\n",
    "print(lower_bound)\n",
    "print(upper_bound)"
   ]
  },
  {
   "cell_type": "code",
   "execution_count": null,
   "id": "57b87f1e-a0c6-45d0-9f99-9e0e79590a64",
   "metadata": {},
   "outputs": [],
   "source": []
  },
  {
   "cell_type": "markdown",
   "id": "43fdf9ff-6cde-44e6-939b-6a62b925ccf1",
   "metadata": {},
   "source": [
    "Q14. A researcher hypothesizes that a new drug will decrease blood pressure by 10 mmHg. They conduct a\n",
    "clinical trial with 100 patients and find that the sample mean decrease in blood pressure is 8 mmHg with a\n",
    "standard deviation of 3 mmHg. Test the hypothesis with a significance level of 0.05."
   ]
  },
  {
   "cell_type": "markdown",
   "id": "02a08db2-b8bb-41a0-a23b-ac569907d3f3",
   "metadata": {},
   "source": [
    "* Hypothesis Testing\n",
    "\n",
    "Null Hypothesis(H0) -> new drug will decrease blood pressure by 10 mmHg\n",
    "\n",
    "Alternate Hypothesis(H1) -> new drug will not decrease blood pressure by 10 mmHg\n",
    "\n",
    "significance level -> 0.05\n",
    "\n",
    "critical_value -> -1.984 to +1.984\n",
    "\n",
    "t-test -> X - μ / (sample_std / math.sqer(n))\n",
    " \n",
    "     -> -6.666666666666667\n",
    "\n",
    "    \n",
    "Decision -> We reject the null hypothesis."
   ]
  },
  {
   "cell_type": "code",
   "execution_count": 41,
   "id": "78131018-f79a-4bd8-9ea4-09f89721565a",
   "metadata": {},
   "outputs": [
    {
     "name": "stdout",
     "output_type": "stream",
     "text": [
      "-6.666666666666667\n"
     ]
    }
   ],
   "source": [
    "population_mean=10\n",
    "sample_mean=8\n",
    "n=100\n",
    "sample_std=3\n",
    "\n",
    "t_test = (sample_mean - population_mean) / (sample_std/math.sqrt(n))\n",
    "\n",
    "print(t_test)"
   ]
  },
  {
   "cell_type": "code",
   "execution_count": null,
   "id": "ade626fc-1906-4bd5-a735-5899c1be363d",
   "metadata": {},
   "outputs": [],
   "source": []
  },
  {
   "cell_type": "markdown",
   "id": "c8afbe17-6ecc-4bfc-a99c-98b8d04d3da2",
   "metadata": {},
   "source": [
    "Q15. An electronics company produces a certain type of product with a mean weight of 5 pounds and a\n",
    "standard deviation of 0.5 pounds. A random sample of 25 products is taken, and the sample mean weight\n",
    "is found to be 4.8 pounds. Test the hypothesis that the true mean weight of the products is less than 5\n",
    "pounds with a significance level of 0.01."
   ]
  },
  {
   "cell_type": "markdown",
   "id": "1949c2ca-cbd1-4baa-9e9d-3237c07af9bd",
   "metadata": {},
   "source": [
    "* Hypothesis Testing\n",
    "\n",
    "Null Hylothesis(H0) -> weight = 5 pounds\n",
    "\n",
    "Alternate Hypothesis(H1) -> weigh < 5 pounds\n",
    "\n",
    "Significance level -> 0.01\n",
    "\n",
    "z-test = X - μ / (std/math.sqrt(n))\n",
    "\n",
    "       = -2.0000000000000018\n",
    "       \n",
    "Critical_value = -2.32\n",
    "       \n",
    "Decision -> Fail to reject the null hypothesis."
   ]
  },
  {
   "cell_type": "code",
   "execution_count": 44,
   "id": "23f1ab48-7dd2-4793-a51c-4809b00a8cb6",
   "metadata": {},
   "outputs": [
    {
     "name": "stdout",
     "output_type": "stream",
     "text": [
      "-2.0000000000000018\n"
     ]
    }
   ],
   "source": [
    "n=25\n",
    "population_mean=5\n",
    "population_std=0.5\n",
    "sample_mean=4.8\n",
    "significance_level=0.01\n",
    "\n",
    "z_test = (sample_mean-population_mean) / (population_std/math.sqrt(n))\n",
    "\n",
    "print(z_test)"
   ]
  },
  {
   "cell_type": "code",
   "execution_count": null,
   "id": "d7a1dddb-96e4-4ff0-a42e-081ed753b600",
   "metadata": {},
   "outputs": [],
   "source": []
  },
  {
   "cell_type": "markdown",
   "id": "89cfe50a-d189-4618-a1b3-0e4c1ba147f3",
   "metadata": {},
   "source": [
    "Q16. Two groups of students are given different study materials to prepare for a test. The first group (n1 =\n",
    "30) has a mean score of 80 with a standard deviation of 10, and the second group (n2 = 40) has a mean\n",
    "score of 75 with a standard deviation of 8. Test the hypothesis that the population means for the two\n",
    "groups are equal with a significance level of 0.01."
   ]
  },
  {
   "cell_type": "markdown",
   "id": "e0bb1be9-1883-41ba-b49e-6895024d7b8f",
   "metadata": {},
   "source": [
    "* Hypothesis Testing\n",
    "\n",
    "Null Hypothesis -> population means for the two groups are equal \n",
    "\n",
    "Alternate Hypothesis -> population means for the two groups are not equal \n",
    "\n",
    "significance level -> 0.01.\n",
    "\n",
    "df = n1+n2 - 2 = 68\n",
    "\n",
    "critical_value-> 2.5809193414466614\n",
    "\n",
    "two-sample t-test = X̄1 - X̄2 / math.sqrt(S1 ** 2/n1 + S2 ** 2/n2)\n",
    "      \n",
    "                  = 2.2511258444537408\n",
    "        \n",
    "Decision -> Fail to reject the null hypothesis.\n",
    "\n"
   ]
  },
  {
   "cell_type": "code",
   "execution_count": 58,
   "id": "752ec784-0da6-41d5-8b9a-4ed7fb098598",
   "metadata": {},
   "outputs": [
    {
     "data": {
      "text/plain": [
       "2.2511258444537408"
      ]
     },
     "execution_count": 58,
     "metadata": {},
     "output_type": "execute_result"
    }
   ],
   "source": [
    "n1=30\n",
    "n2=40\n",
    "mean1 = 80\n",
    "mean2 = 75\n",
    "s1=10\n",
    "s2=8\n",
    "\n",
    "t_test = (mean1-mean2) / math.sqrt((s1 ** 2/n1 + s2 ** 2/n2))\n",
    "\n",
    "t_test"
   ]
  },
  {
   "cell_type": "code",
   "execution_count": 62,
   "id": "e6c36214-60be-474c-9639-cb43811941b0",
   "metadata": {},
   "outputs": [
    {
     "data": {
      "text/plain": [
       "2.6500812928169553"
      ]
     },
     "execution_count": 62,
     "metadata": {},
     "output_type": "execute_result"
    }
   ],
   "source": [
    "from scipy.stats import t\n",
    "df=68\n",
    "alpha = 0.01\n",
    "\n",
    "critical_value = t.ppf(1-alpha/2,df)\n",
    "critical_value"
   ]
  },
  {
   "cell_type": "code",
   "execution_count": null,
   "id": "da92fe88-dbeb-40af-82ff-4521b8b27ee0",
   "metadata": {},
   "outputs": [],
   "source": []
  },
  {
   "cell_type": "markdown",
   "id": "fb14096e-3f67-49c1-8331-79560f580965",
   "metadata": {},
   "source": [
    "Q17. A marketing company wants to estimate the average number of ads watched by viewers during a TV\n",
    "program. They take a random sample of 50 viewers and find that the sample mean is 4 with a standard\n",
    "deviation of 1.5. Estimate the population mean with a 99% confidence interval."
   ]
  },
  {
   "cell_type": "markdown",
   "id": "e27edf32-3695-408e-b5a4-20ae1acefb45",
   "metadata": {},
   "source": [
    "Mgin_of_error = x ± Z(significance_value/2) * std/math.sqrt(n)\n",
    "\n"
   ]
  },
  {
   "cell_type": "code",
   "execution_count": 63,
   "id": "898c016c-3ccb-45f2-b04e-6e8834752624",
   "metadata": {},
   "outputs": [
    {
     "name": "stdout",
     "output_type": "stream",
     "text": [
      "3.452699351361612\n",
      "4.547300648638387\n"
     ]
    }
   ],
   "source": [
    "lower_bound = 4 - 2.58 * 1.5 / math.sqrt(50)\n",
    "\n",
    "upper_bound = 4 + 2.58 * 1.5 / math.sqrt(50)\n",
    "\n",
    "print(lower_bound)\n",
    "print(upper_bound)"
   ]
  },
  {
   "cell_type": "code",
   "execution_count": null,
   "id": "c432a23f-f73c-48d1-9b30-47df7d7d60a8",
   "metadata": {},
   "outputs": [],
   "source": []
  }
 ],
 "metadata": {
  "kernelspec": {
   "display_name": "Python 3 (ipykernel)",
   "language": "python",
   "name": "python3"
  },
  "language_info": {
   "codemirror_mode": {
    "name": "ipython",
    "version": 3
   },
   "file_extension": ".py",
   "mimetype": "text/x-python",
   "name": "python",
   "nbconvert_exporter": "python",
   "pygments_lexer": "ipython3",
   "version": "3.10.8"
  }
 },
 "nbformat": 4,
 "nbformat_minor": 5
}
